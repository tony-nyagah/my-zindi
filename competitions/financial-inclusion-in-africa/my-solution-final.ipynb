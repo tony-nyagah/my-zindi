{
 "cells": [
  {
   "cell_type": "markdown",
   "metadata": {},
   "source": [
    "### 1. Basic Dataset Information"
   ]
  },
  {
   "cell_type": "code",
   "execution_count": null,
   "metadata": {},
   "outputs": [],
   "source": [
    "print(\"Train Dataset Shape:\", train_data.shape)\n",
    "print(\"\\nData Types of Features:\")\n",
    "print(train_data.dtypes)\n",
    "print(\"\\nBasic Information about the Dataset:\")\n",
    "train_data.info()"
   ]
  }
 ],
 "metadata": {
  "language_info": {
   "name": "python"
  }
 },
 "nbformat": 4,
 "nbformat_minor": 2
}
